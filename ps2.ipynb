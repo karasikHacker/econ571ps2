{
 "cells": [
  {
   "cell_type": "code",
   "execution_count": 25,
   "metadata": {},
   "outputs": [],
   "source": [
    "import numpy as np # linear algebra\n",
    "import pandas as pd # data processing, CSV file I/O (e.g. pd.read_csv)\n",
    "import matplotlib.pyplot as plt\n",
    "import sklearn\n",
    "import math\n",
    "import statsmodels.api as sm\n",
    "from statsmodels.tsa.stattools import adfuller # Dickey-Fuller test\n",
    "from statsmodels.tsa.statespace.tools import diff # difference operator \n",
    "%matplotlib inline"
   ]
  },
  {
   "cell_type": "code",
   "execution_count": 18,
   "metadata": {},
   "outputs": [
    {
     "name": "stdout",
     "output_type": "stream",
     "text": [
      "gdp:(283, 4) money:(708, 5)\n"
     ]
    }
   ],
   "source": [
    "gdp_df = pd.read_csv(\"./data/USGDP.csv\")\n",
    "money_df = pd.read_csv(\"./data/USMoney.csv\")\n",
    "print(\"gdp:\" + str(gdp_df.shape) + \" money:\" + str(money_df.shape)) "
   ]
  },
  {
   "cell_type": "code",
   "execution_count": 19,
   "metadata": {},
   "outputs": [],
   "source": [
    "gdp_df.GDP = gdp_df.GDP.apply(lambda x: float(x.replace(',','')))"
   ]
  },
  {
   "cell_type": "code",
   "execution_count": null,
   "metadata": {},
   "outputs": [],
   "source": [
    "# adjust for inflation using GDP deflator. \n",
    "amoney_df.M1 = (amoney_df.M1 / gdp_df.GDPDEF) * 100\n",
    "amoney_df.M2 = (amoney_df.M2 / gdp_df.GDPDEF) * 100"
   ]
  },
  {
   "cell_type": "code",
   "execution_count": 20,
   "metadata": {},
   "outputs": [],
   "source": [
    "# transform months to quarters and average the data\n",
    "amoney_df = money_df.groupby(money_df.index // 3, ).mean()\n",
    "amoney_df.Month = (amoney_df.index % 4) + 1\n",
    "amoney_df = amoney_df.rename(columns={'Month':'Quarter'})"
   ]
  },
  {
   "cell_type": "code",
   "execution_count": 22,
   "metadata": {},
   "outputs": [],
   "source": [
    "# add real GDP by adjusting GDP by GDP deflator. \n",
    "gdp_df.GDP = ((gdp_df.GDP / gdp_df.GDPDEF) * 100)\n",
    "gdp_cols = ['Year', 'Quarter', 'GDP']\n",
    "amoney_df = pd.merge(amoney_df, gdp_df[['Year', 'Quarter', 'GDP']], on=['Year', 'Quarter'], how='inner')\n",
    "amoney_df = amoney_df.rename(columns={'GDP':'RGDP'})"
   ]
  },
  {
   "cell_type": "code",
   "execution_count": 23,
   "metadata": {},
   "outputs": [
    {
     "data": {
      "text/plain": [
       "(58, 6)"
      ]
     },
     "execution_count": 23,
     "metadata": {},
     "output_type": "execute_result"
    }
   ],
   "source": [
    "# create an annual version of the data. \n",
    "qmoney_df = amoney_df  # quarters\n",
    "ymoney_df = amoney_df.head(232).groupby(amoney_df.head(232).index // 4, ).mean()\n",
    "ymoney_df.Year =  ymoney_df.Year.astype(int)\n",
    "ymoney_df.shape"
   ]
  },
  {
   "cell_type": "code",
   "execution_count": 24,
   "metadata": {},
   "outputs": [],
   "source": [
    "# quarterly train and test. \n",
    "q_lnM1 = np.log(qmoney_df.M1) / np.log(math.e)\n",
    "q_lnM2 = np.log(qmoney_df.M2) / np.log(math.e)\n",
    "q_X = qmoney_df.drop(['M1', 'M2', 'Year', 'Quarter'], axis=1)\n",
    "q_X = np.log(q_X) / np.log(math.e)\n",
    "q_X = sm.add_constant(q_X)  # add a column of ones. \n",
    "\n",
    "#yearly train and test\n",
    "y_lnM1 = np.log(ymoney_df.M1) / np.log(math.e)\n",
    "y_lnM2 = np.log(ymoney_df.M2) / np.log(math.e)\n",
    "y_X = ymoney_df.drop(['M1', 'M2', 'Year', 'Quarter'], axis=1)\n",
    "y_X = np.log(y_X) / np.log(math.e)\n",
    "y_X = sm.add_constant(y_X)"
   ]
  },
  {
   "cell_type": "code",
   "execution_count": 46,
   "metadata": {},
   "outputs": [
    {
     "name": "stdout",
     "output_type": "stream",
     "text": [
      "-------------------------------\n",
      "0th degree difference\n",
      "ADF Statistic: -2.289823\n",
      "p-value: 0.175271\n",
      "used lags: 1.000000\n",
      "Critical Values:\n",
      "\t1%: -3.459\n",
      "\t5%: -2.874\n",
      "\t10%: -2.573\n",
      "-------------------------------\n",
      "-------------------------------\n",
      "1th degree difference\n",
      "ADF Statistic: -7.464437\n",
      "p-value: 0.000000\n",
      "used lags: 1.000000\n",
      "Critical Values:\n",
      "\t1%: -3.459\n",
      "\t5%: -2.874\n",
      "\t10%: -2.573\n",
      "-------------------------------\n"
     ]
    }
   ],
   "source": [
    "# Prefrom the Dickey-Fuller test on ln(RGDP)\n",
    "# this function automatically can choose the correct number of difference\n",
    "i = 0\n",
    "result = None\n",
    "while True: \n",
    "#     if i != 0:\n",
    "#         q_X_d = diff(q_X.RGDP, k_diff=i)\n",
    "#         result = adfuller(q_X_d, maxlag=1, regression='c', autolag=None)\n",
    "#     else: \n",
    "#         result = adfuller(q_X.RGDP, maxlag=1, regression='c', autolag=None)\n",
    "    q_X_d = diff(q_X.RGDP, k_diff=i)\n",
    "    result = adfuller(q_X_d, regression='c', autolag='BIC')\n",
    "    print(\"-------------------------------\")\n",
    "    print(str(i) + \"th degree difference\")\n",
    "    print('ADF Statistic: %f' % result[0])\n",
    "    print('p-value: %f' % result[1])\n",
    "    print('used lags: %f' % result[2])\n",
    "    print('Critical Values:')\n",
    "    for key, value in result[4].items():\n",
    "        print('\\t%s: %.3f' % (key, value))\n",
    "    print(\"-------------------------------\")\n",
    "    if result[1] < 0.05: \n",
    "        break\n",
    "    i += 1"
   ]
  },
  {
   "cell_type": "code",
   "execution_count": null,
   "metadata": {},
   "outputs": [],
   "source": []
  }
 ],
 "metadata": {
  "kernelspec": {
   "display_name": "Python 3",
   "language": "python",
   "name": "python3"
  },
  "language_info": {
   "codemirror_mode": {
    "name": "ipython",
    "version": 3
   },
   "file_extension": ".py",
   "mimetype": "text/x-python",
   "name": "python",
   "nbconvert_exporter": "python",
   "pygments_lexer": "ipython3",
   "version": "3.7.6"
  }
 },
 "nbformat": 4,
 "nbformat_minor": 2
}
